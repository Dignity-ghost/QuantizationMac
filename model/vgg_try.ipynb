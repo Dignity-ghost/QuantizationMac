{
 "cells": [
  {
   "cell_type": "code",
   "execution_count": 41,
   "metadata": {},
   "outputs": [
    {
     "name": "stdout",
     "output_type": "stream",
     "text": [
      "\n",
      "\n",
      "conv1_1\n",
      "weights shape:  (3, 3, 3, 64)\n",
      "peak value of weights 266 (0, 1, 1, 10)\n",
      "biases shape:  (64,)\n",
      "peak value of bias 31 (31,)\n",
      "\n",
      "\n",
      "conv1_2\n",
      "weights shape:  (3, 3, 64, 64)\n",
      "peak value of weights 16914 (1, 1, 8, 18)\n",
      "biases shape:  (64,)\n",
      "peak value of bias 4 (4,)\n",
      "\n",
      "\n",
      "conv2_1\n",
      "weights shape:  (3, 3, 64, 128)\n",
      "peak value of weights 64968 (2, 1, 59, 72)\n",
      "biases shape:  (128,)\n",
      "peak value of bias 24 (24,)\n",
      "\n",
      "\n",
      "conv2_2\n",
      "weights shape:  (3, 3, 128, 128)\n",
      "peak value of weights 126677 (2, 1, 93, 85)\n",
      "biases shape:  (128,)\n",
      "peak value of bias 70 (70,)\n",
      "\n",
      "\n",
      "conv3_1\n",
      "weights shape:  (3, 3, 128, 256)\n",
      "peak value of weights 152834 (1, 1, 85, 2)\n",
      "biases shape:  (256,)\n",
      "peak value of bias 239 (239,)\n",
      "\n",
      "\n",
      "conv3_2\n",
      "weights shape:  (3, 3, 256, 256)\n",
      "peak value of weights 262721 (1, 1, 2, 65)\n",
      "biases shape:  (256,)\n",
      "peak value of bias 112 (112,)\n",
      "\n",
      "\n",
      "conv3_3\n",
      "weights shape:  (3, 3, 256, 256)\n",
      "peak value of weights 67628 (0, 1, 8, 44)\n",
      "biases shape:  (256,)\n",
      "peak value of bias 246 (246,)\n",
      "\n",
      "\n",
      "conv4_1\n",
      "weights shape:  (3, 3, 256, 512)\n",
      "peak value of weights 543358 (1, 1, 37, 126)\n",
      "biases shape:  (512,)\n",
      "peak value of bias 352 (352,)\n",
      "\n",
      "\n",
      "conv4_2\n",
      "weights shape:  (3, 3, 512, 512)\n",
      "peak value of weights 1113092 (1, 1, 126, 4)\n",
      "biases shape:  (512,)\n",
      "peak value of bias 247 (247,)\n",
      "\n",
      "\n",
      "conv4_3\n",
      "weights shape:  (3, 3, 512, 512)\n",
      "peak value of weights 264337 (0, 1, 4, 145)\n",
      "biases shape:  (512,)\n",
      "peak value of bias 267 (267,)\n",
      "\n",
      "\n",
      "conv5_1\n",
      "weights shape:  (3, 3, 512, 512)\n",
      "peak value of weights 1304580 (1, 1, 500, 4)\n",
      "biases shape:  (512,)\n",
      "peak value of bias 511 (511,)\n",
      "\n",
      "\n",
      "conv5_2\n",
      "weights shape:  (3, 3, 512, 512)\n",
      "peak value of weights 1362808 (1, 2, 101, 376)\n",
      "biases shape:  (512,)\n",
      "peak value of bias 226 (226,)\n",
      "\n",
      "\n",
      "conv5_3\n",
      "weights shape:  (3, 3, 512, 512)\n",
      "peak value of weights 1137985 (1, 1, 174, 321)\n",
      "biases shape:  (512,)\n",
      "peak value of bias 155 (155,)\n",
      "\n",
      "\n",
      "fc6\n",
      "weights shape:  (25088, 4096)\n",
      "peak value of weights 944292 (230, 2212)\n",
      "biases shape:  (4096,)\n",
      "peak value of bias 3931 (3931,)\n",
      "\n",
      "\n",
      "fc7\n",
      "weights shape:  (4096, 4096)\n",
      "peak value of weights 9727261 (2374, 3357)\n",
      "biases shape:  (4096,)\n",
      "peak value of bias 518 (518,)\n",
      "\n",
      "\n",
      "fc8\n",
      "weights shape:  (4096, 1000)\n",
      "peak value of weights 461565 (461, 565)\n",
      "biases shape:  (1000,)\n",
      "peak value of bias 477 (477,)\n"
     ]
    }
   ],
   "source": [
    "import numpy as np\n",
    "\n",
    "data_dict = np.load('/home/linux/file/package/tensorflow_material/vgg16.npy', encoding='latin1').item()\n",
    "keys = sorted(data_dict.keys())\n",
    "\n",
    "for key in keys:\n",
    "    weights = data_dict[key][0]\n",
    "    biases = data_dict[key][1]\n",
    "    print('\\n')\n",
    "    print(key)\n",
    "    print('weights shape: ', weights.shape)\n",
    "    print('peak value of weights', np.argmax(weights),np.unravel_index(np.argmax(weights),weights.shape))\n",
    "    print('biases shape: ', biases.shape)\n",
    "    print('peak value of bias', np.argmax(biases),np.unravel_index(np.argmax(biases),biases.shape))"
   ]
  },
  {
   "cell_type": "code",
   "execution_count": 10,
   "metadata": {},
   "outputs": [],
   "source": [
    "weights.dtype = 'float16'"
   ]
  },
  {
   "cell_type": "code",
   "execution_count": 15,
   "metadata": {},
   "outputs": [
    {
     "data": {
      "text/plain": [
       "array([ 1.750e-04,  1.406e+03, -8.350e-02, ...,  3.332e+03,  6.836e+00,\n",
       "       -1.170e+03], dtype=float16)"
      ]
     },
     "execution_count": 15,
     "metadata": {},
     "output_type": "execute_result"
    }
   ],
   "source": [
    "weights[:,0]"
   ]
  },
  {
   "cell_type": "code",
   "execution_count": 33,
   "metadata": {},
   "outputs": [
    {
     "name": "stderr",
     "output_type": "stream",
     "text": [
      "/usr/local/lib/python3.6/site-packages/ipykernel_launcher.py:1: RuntimeWarning: invalid value encountered in multiply\n",
      "  \"\"\"Entry point for launching an IPython kernel.\n"
     ]
    },
    {
     "data": {
      "text/plain": [
       "-64.94140625"
      ]
     },
     "execution_count": 33,
     "metadata": {},
     "output_type": "execute_result"
    }
   ],
   "source": [
    "sum((((np.trunc(weights[:,0] * 256)).astype(np.int8))/256).astype(np.float16))"
   ]
  },
  {
   "cell_type": "code",
   "execution_count": 40,
   "metadata": {},
   "outputs": [
    {
     "data": {
      "text/plain": [
       "0.057255637"
      ]
     },
     "execution_count": 40,
     "metadata": {},
     "output_type": "execute_result"
    }
   ],
   "source": [
    "weights[461,565]"
   ]
  },
  {
   "cell_type": "code",
   "execution_count": 33,
   "metadata": {},
   "outputs": [],
   "source": [
    "import re \n",
    "label_path = \"/home/linux/file/package/tensorflow_material/ILSVRC2012_devkit_t12/val.txt\"\n",
    "label = [l.strip() for l in open(label_path).readlines()]\n",
    "for i in range(len(label)):\n",
    "    label[i] = re.split(r' ', label[i]) \n",
    "    label[i][1] = int(label[i][1])"
   ]
  },
  {
   "cell_type": "code",
   "execution_count": 34,
   "metadata": {},
   "outputs": [
    {
     "data": {
      "text/plain": [
       "50000"
      ]
     },
     "execution_count": 34,
     "metadata": {},
     "output_type": "execute_result"
    }
   ],
   "source": [
    "len(label)"
   ]
  },
  {
   "cell_type": "code",
   "execution_count": 38,
   "metadata": {},
   "outputs": [
    {
     "data": {
      "text/plain": [
       "948"
      ]
     },
     "execution_count": 38,
     "metadata": {},
     "output_type": "execute_result"
    }
   ],
   "source": [
    "label[22][1]"
   ]
  },
  {
   "cell_type": "code",
   "execution_count": 23,
   "metadata": {},
   "outputs": [
    {
     "data": {
      "text/plain": [
       "'ILSVRC2012_val_00000023.JPEG'"
      ]
     },
     "execution_count": 23,
     "metadata": {},
     "output_type": "execute_result"
    }
   ],
   "source": [
    "import re\n",
    "word = re.split(r' ', label[22])\n",
    "word[0]"
   ]
  },
  {
   "cell_type": "code",
   "execution_count": 24,
   "metadata": {},
   "outputs": [
    {
     "data": {
      "text/plain": [
       "'948'"
      ]
     },
     "execution_count": 24,
     "metadata": {},
     "output_type": "execute_result"
    }
   ],
   "source": [
    "word[1]"
   ]
  },
  {
   "cell_type": "code",
   "execution_count": 40,
   "metadata": {},
   "outputs": [
    {
     "name": "stdout",
     "output_type": "stream",
     "text": [
      "0\n",
      "5\n",
      "10\n",
      "15\n",
      "20\n",
      "25\n",
      "30\n",
      "35\n",
      "40\n",
      "45\n"
     ]
    }
   ],
   "source": [
    "for i in range(0,50,5):\n",
    "    for j in range(i,i+1):\n",
    "        print(i)"
   ]
  },
  {
   "cell_type": "code",
   "execution_count": 43,
   "metadata": {},
   "outputs": [],
   "source": [
    "import numpy as np\n",
    "batch = []\n",
    "img = np.array([[1,2],[3,4]])"
   ]
  },
  {
   "cell_type": "code",
   "execution_count": 44,
   "metadata": {},
   "outputs": [
    {
     "data": {
      "text/plain": [
       "array([[1, 2],\n",
       "       [3, 4]])"
      ]
     },
     "execution_count": 44,
     "metadata": {},
     "output_type": "execute_result"
    }
   ],
   "source": [
    "img"
   ]
  },
  {
   "cell_type": "code",
   "execution_count": 45,
   "metadata": {},
   "outputs": [
    {
     "ename": "ValueError",
     "evalue": "all the input arrays must have same number of dimensions",
     "output_type": "error",
     "traceback": [
      "\u001b[0;31m---------------------------------------------------------------------------\u001b[0m",
      "\u001b[0;31mValueError\u001b[0m                                Traceback (most recent call last)",
      "\u001b[0;32m<ipython-input-45-265b57798d4b>\u001b[0m in \u001b[0;36m<module>\u001b[0;34m\u001b[0m\n\u001b[0;32m----> 1\u001b[0;31m \u001b[0mbatch\u001b[0m \u001b[0;34m=\u001b[0m \u001b[0mnp\u001b[0m\u001b[0;34m.\u001b[0m\u001b[0mconcatenate\u001b[0m\u001b[0;34m(\u001b[0m\u001b[0;34m(\u001b[0m\u001b[0mbatch\u001b[0m\u001b[0;34m,\u001b[0m\u001b[0mimg\u001b[0m\u001b[0;34m)\u001b[0m\u001b[0;34m,\u001b[0m\u001b[0;36m0\u001b[0m\u001b[0;34m)\u001b[0m\u001b[0;34m\u001b[0m\u001b[0;34m\u001b[0m\u001b[0m\n\u001b[0m\u001b[1;32m      2\u001b[0m \u001b[0mbatch\u001b[0m\u001b[0;34m\u001b[0m\u001b[0;34m\u001b[0m\u001b[0m\n",
      "\u001b[0;31mValueError\u001b[0m: all the input arrays must have same number of dimensions"
     ]
    }
   ],
   "source": [
    "batch = np.concatenate((batch,img),0)\n",
    "batch"
   ]
  },
  {
   "cell_type": "code",
   "execution_count": 46,
   "metadata": {},
   "outputs": [],
   "source": [
    "a = np.array([1,2,3,4,5])"
   ]
  },
  {
   "cell_type": "code",
   "execution_count": null,
   "metadata": {},
   "outputs": [],
   "source": []
  }
 ],
 "metadata": {
  "kernelspec": {
   "display_name": "Python 3",
   "language": "python",
   "name": "python3"
  },
  "language_info": {
   "codemirror_mode": {
    "name": "ipython",
    "version": 3
   },
   "file_extension": ".py",
   "mimetype": "text/x-python",
   "name": "python",
   "nbconvert_exporter": "python",
   "pygments_lexer": "ipython3",
   "version": "3.6.8"
  }
 },
 "nbformat": 4,
 "nbformat_minor": 4
}
